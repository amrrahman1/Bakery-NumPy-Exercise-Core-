{
  "nbformat": 4,
  "nbformat_minor": 0,
  "metadata": {
    "colab": {
      "name": "Untitled11.ipynb",
      "provenance": [],
      "authorship_tag": "ABX9TyMQqNJrkfhHBDOznCeTb6ty",
      "include_colab_link": true
    },
    "kernelspec": {
      "name": "python3",
      "display_name": "Python 3"
    },
    "language_info": {
      "name": "python"
    }
  },
  "cells": [
    {
      "cell_type": "markdown",
      "metadata": {
        "id": "view-in-github",
        "colab_type": "text"
      },
      "source": [
        "<a href=\"https://colab.research.google.com/github/amrrahman1/Bakery-NumPy-Exercise-Core-/blob/main/Untitled11.ipynb\" target=\"_parent\"><img src=\"https://colab.research.google.com/assets/colab-badge.svg\" alt=\"Open In Colab\"/></a>"
      ]
    },
    {
      "cell_type": "code",
      "metadata": {
        "colab": {
          "base_uri": "https://localhost:8080/"
        },
        "id": "KnvOtHShQHKW",
        "outputId": "e195cd1e-5059-4dfe-eafe-9d320f7148a8"
      },
      "source": [
        "price = [2,1,10]\n",
        "type (price)\n"
      ],
      "execution_count": 1,
      "outputs": [
        {
          "output_type": "execute_result",
          "data": {
            "text/plain": [
              "list"
            ]
          },
          "metadata": {},
          "execution_count": 1
        }
      ]
    },
    {
      "cell_type": "code",
      "metadata": {
        "colab": {
          "base_uri": "https://localhost:8080/"
        },
        "id": "joRuw5AsQrTn",
        "outputId": "4e27b932-d59c-474f-ba14-75be1d6c5dc1"
      },
      "source": [
        "quantity_sold = [17,40,1]\n",
        "type (quantity_sold)\n"
      ],
      "execution_count": 7,
      "outputs": [
        {
          "output_type": "execute_result",
          "data": {
            "text/plain": [
              "list"
            ]
          },
          "metadata": {},
          "execution_count": 7
        }
      ]
    },
    {
      "cell_type": "code",
      "metadata": {
        "id": "ptA7rFzjQ0q9"
      },
      "source": [
        "import numpy as np\n"
      ],
      "execution_count": 20,
      "outputs": []
    },
    {
      "cell_type": "code",
      "metadata": {
        "colab": {
          "base_uri": "https://localhost:8080/"
        },
        "id": "51jtSJlVRSM8",
        "outputId": "0352ef2c-2550-4dbc-84eb-b05fa0b27c14"
      },
      "source": [
        "price_array = np.array(price)\n",
        "quantity_sold_array = np.array (quantity_sold)\n",
        "type (price_array)\n"
      ],
      "execution_count": 21,
      "outputs": [
        {
          "output_type": "execute_result",
          "data": {
            "text/plain": [
              "numpy.ndarray"
            ]
          },
          "metadata": {},
          "execution_count": 21
        }
      ]
    },
    {
      "cell_type": "code",
      "metadata": {
        "colab": {
          "base_uri": "https://localhost:8080/"
        },
        "id": "k92FOrf5Rg_V",
        "outputId": "3f92ffc7-3016-4d32-b026-2ae8bc296316"
      },
      "source": [
        "price_array * quantity_sold_array\n"
      ],
      "execution_count": 22,
      "outputs": [
        {
          "output_type": "execute_result",
          "data": {
            "text/plain": [
              "array([34, 40, 10])"
            ]
          },
          "metadata": {},
          "execution_count": 22
        }
      ]
    },
    {
      "cell_type": "code",
      "metadata": {
        "colab": {
          "base_uri": "https://localhost:8080/"
        },
        "id": "J3shmye5R5oi",
        "outputId": "54aa56f2-1b9a-4014-9e16-4ec59362875b"
      },
      "source": [
        "cost_array =np.array([0.25,0.50,5.00])\n",
        "type (cost_array)\n"
      ],
      "execution_count": 23,
      "outputs": [
        {
          "output_type": "execute_result",
          "data": {
            "text/plain": [
              "numpy.ndarray"
            ]
          },
          "metadata": {},
          "execution_count": 23
        }
      ]
    },
    {
      "cell_type": "code",
      "metadata": {
        "colab": {
          "base_uri": "https://localhost:8080/"
        },
        "id": "zIp8Coy2SO--",
        "outputId": "c75bc096-26ca-4ef4-e12d-d25361aa7ff4"
      },
      "source": [
        "profit_array = price_array - cost_array\n",
        "print (profit_array)\n"
      ],
      "execution_count": 24,
      "outputs": [
        {
          "output_type": "stream",
          "name": "stdout",
          "text": [
            "[1.75 0.5  5.  ]\n"
          ]
        }
      ]
    },
    {
      "cell_type": "code",
      "metadata": {
        "colab": {
          "base_uri": "https://localhost:8080/"
        },
        "id": "Dy_1gNlYSccq",
        "outputId": "18fea128-bef5-4f67-df96-eac03163c648"
      },
      "source": [
        "profit_array > 2.00\n"
      ],
      "execution_count": 25,
      "outputs": [
        {
          "output_type": "execute_result",
          "data": {
            "text/plain": [
              "array([False, False,  True])"
            ]
          },
          "metadata": {},
          "execution_count": 25
        }
      ]
    },
    {
      "cell_type": "code",
      "metadata": {
        "colab": {
          "base_uri": "https://localhost:8080/"
        },
        "id": "ch-IgsHdSvM9",
        "outputId": "644ca679-a80a-4d5c-b033-58518c607140"
      },
      "source": [
        "price_array = price_array + [7]\n",
        "print (price_array)\n"
      ],
      "execution_count": 26,
      "outputs": [
        {
          "output_type": "stream",
          "name": "stdout",
          "text": [
            "[ 9  8 17]\n"
          ]
        }
      ]
    },
    {
      "cell_type": "code",
      "metadata": {
        "colab": {
          "base_uri": "https://localhost:8080/"
        },
        "id": "a_0jdPUbTBnV",
        "outputId": "8340efd8-6f55-4d77-8e12-c5b1ff21e911"
      },
      "source": [
        "price_array = price_array - [7]\n",
        "price_array = np.append(price_array, 7)\n",
        "print (price_array)\n"
      ],
      "execution_count": 27,
      "outputs": [
        {
          "output_type": "stream",
          "name": "stdout",
          "text": [
            "[ 2  1 10  7]\n"
          ]
        }
      ]
    },
    {
      "cell_type": "code",
      "metadata": {
        "colab": {
          "base_uri": "https://localhost:8080/"
        },
        "id": "O9HrHTbdTyyP",
        "outputId": "a66b3897-4263-46d4-b40c-dc535b64a080"
      },
      "source": [
        "price_array = np.append (price_array, [4.50,3,4,9])\n",
        "print (price_array)\n"
      ],
      "execution_count": 28,
      "outputs": [
        {
          "output_type": "stream",
          "name": "stdout",
          "text": [
            "[ 2.   1.  10.   7.   4.5  3.   4.   9. ]\n"
          ]
        }
      ]
    },
    {
      "cell_type": "code",
      "metadata": {
        "colab": {
          "base_uri": "https://localhost:8080/"
        },
        "id": "lhmC6tF1UJgO",
        "outputId": "712a8abc-a619-4636-cb92-56f6ede18f71"
      },
      "source": [
        "print(price_array.dtype)\n"
      ],
      "execution_count": 29,
      "outputs": [
        {
          "output_type": "stream",
          "name": "stdout",
          "text": [
            "float64\n"
          ]
        }
      ]
    },
    {
      "cell_type": "code",
      "metadata": {
        "colab": {
          "base_uri": "https://localhost:8080/"
        },
        "id": "q71MWDEoUXFo",
        "outputId": "a833557c-352e-410e-a1e3-37abc38eab3a"
      },
      "source": [
        "price_array = np.delete(price_array, -1)\n",
        "print (price_array)\n"
      ],
      "execution_count": 30,
      "outputs": [
        {
          "output_type": "stream",
          "name": "stdout",
          "text": [
            "[ 2.   1.  10.   7.   4.5  3.   4. ]\n"
          ]
        }
      ]
    },
    {
      "cell_type": "code",
      "metadata": {
        "colab": {
          "base_uri": "https://localhost:8080/"
        },
        "id": "K1QKcJ6dUyX2",
        "outputId": "9d8971d0-bb88-4276-8948-fc594fd2b821"
      },
      "source": [
        "price_array [2] =12\n",
        "print (price_array)"
      ],
      "execution_count": 31,
      "outputs": [
        {
          "output_type": "stream",
          "name": "stdout",
          "text": [
            "[ 2.   1.  12.   7.   4.5  3.   4. ]\n"
          ]
        }
      ]
    },
    {
      "cell_type": "code",
      "metadata": {
        "colab": {
          "base_uri": "https://localhost:8080/"
        },
        "id": "RI9uc5gjVEEO",
        "outputId": "5b9793cb-854b-4cc8-8fa4-ee3a1ca8fdbe"
      },
      "source": [
        "# 2 (a) Update the Quantity sold toi include the new entries.\n",
        "quantity_sold_array = np.append (quantity_sold, [2,3,16,5])\n",
        "print (quantity_sold_array)\n"
      ],
      "execution_count": 32,
      "outputs": [
        {
          "output_type": "stream",
          "name": "stdout",
          "text": [
            "[17 40  1  2  3 16  5]\n"
          ]
        }
      ]
    },
    {
      "cell_type": "code",
      "metadata": {
        "colab": {
          "base_uri": "https://localhost:8080/"
        },
        "id": "GFgJAEdyWDDr",
        "outputId": "27222e45-bd67-4250-c8d8-be2ff0ee52c4"
      },
      "source": [
        "# 2 (b) edit the quantity sold of cookies from 40 to 39\n",
        "quantity_sold_array [1]=39\n",
        "print (quantity_sold_array)\n"
      ],
      "execution_count": 33,
      "outputs": [
        {
          "output_type": "stream",
          "name": "stdout",
          "text": [
            "[17 39  1  2  3 16  5]\n"
          ]
        }
      ]
    },
    {
      "cell_type": "code",
      "metadata": {
        "colab": {
          "base_uri": "https://localhost:8080/"
        },
        "id": "0RlyybBVWv5e",
        "outputId": "90b02c8b-3760-4949-ffb7-73395c7c0a00"
      },
      "source": [
        "# 3) Determine the amount of money collected from the sale of each item at the bake sale.\n",
        "profit_array = quantity_sold_array * price_array\n",
        "print (profit_array)\n"
      ],
      "execution_count": 34,
      "outputs": [
        {
          "output_type": "stream",
          "name": "stdout",
          "text": [
            "[34.  39.  12.  14.  13.5 48.  20. ]\n"
          ]
        }
      ]
    },
    {
      "cell_type": "code",
      "metadata": {
        "colab": {
          "base_uri": "https://localhost:8080/"
        },
        "id": "DQHt339iXTiw",
        "outputId": "269ef8ee-925a-48c7-95c5-fa5c11e974e9"
      },
      "source": [
        "# 4) Create a NumPy array \"quantity_leftover\" , its important to update arrays to have the same number of coressponding entries for accurate calculation. \n",
        "quantity_leftover_array = [0,0,2,1,6,0,2]\n",
        "print (quantity_leftover_array)\n"
      ],
      "execution_count": 37,
      "outputs": [
        {
          "output_type": "stream",
          "name": "stdout",
          "text": [
            "[0, 0, 2, 1, 6, 0, 2]\n"
          ]
        }
      ]
    },
    {
      "cell_type": "code",
      "metadata": {
        "colab": {
          "base_uri": "https://localhost:8080/"
        },
        "id": "vVgvTzz_YwZP",
        "outputId": "76c2ef8f-746a-461d-b231-0b7a1e6738c5"
      },
      "source": [
        "# 5) The club decides to sell the leftover items at half price and everything quickly sells out!  Determine how much money was collected from the clearance sale.  \n",
        "updated_price_array = price_array * 0.5\n",
        "\n",
        "clearance_array = updated_price_array * quantity_leftover_array\n",
        "print (clearance_array)\n"
      ],
      "execution_count": 42,
      "outputs": [
        {
          "output_type": "stream",
          "name": "stdout",
          "text": [
            "[ 0.   0.  12.   3.5 13.5  0.   4. ]\n"
          ]
        }
      ]
    },
    {
      "cell_type": "code",
      "metadata": {
        "colab": {
          "base_uri": "https://localhost:8080/"
        },
        "id": "gJFPpmLFbH6o",
        "outputId": "e2c98a7f-7615-4a70-e07b-c2a5a8056862"
      },
      "source": [
        "# 6) How much total money was collected from the bake sale (including the sale of full price and clearance items)?\n",
        "# mp.sum code looked up on https://numpy.org/doc/stable/reference/generated/numpy.sum.html \n",
        "gross_revenue_array =  profit_array + clearance_array\n",
        "np.sum([gross_revenue_array])\n",
        "\n"
      ],
      "execution_count": 46,
      "outputs": [
        {
          "output_type": "execute_result",
          "data": {
            "text/plain": [
              "213.5"
            ]
          },
          "metadata": {},
          "execution_count": 46
        }
      ]
    },
    {
      "cell_type": "code",
      "metadata": {
        "id": "he8nPja7eefB"
      },
      "source": [
        ""
      ],
      "execution_count": null,
      "outputs": []
    }
  ]
}